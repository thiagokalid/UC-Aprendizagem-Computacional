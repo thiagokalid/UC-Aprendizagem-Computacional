{
 "cells": [
  {
   "cell_type": "markdown",
   "id": "42d85123-e033-432b-9a55-258554ed78b4",
   "metadata": {},
   "source": [
    "# Assignment 1\n",
    "\n",
    "In this assignment, you will encounter both pen-and-paper exercises and coding tasks to be solved using Python 3 and the NumPy library. To complete each exercise, utilize the designated cell within this Jupyter notebook. \n",
    "\n",
    "For the pen-and-paper exercises, you have the option to submit either a typeset solution or a good-quality digitalized version of your handwritten solution.\n",
    "\n",
    "As for the Python exercises:\n",
    "\n",
    "- Refrain from altering the provided code; simply fill in the missing portions as indicated.\n",
    "- Do not use any additional libraries beyond those already included in the code.\n",
    "- Make sure that the output of all code cells is visible in your submitted notebook. The evaluator will NOT execute your code before grading your submission.\n",
    "   \n",
    "Please identify the authors of this assignment in the cell below."
   ]
  },
  {
   "cell_type": "markdown",
   "id": "53b1811e-c454-47ce-bd78-5fd65e8da0e2",
   "metadata": {},
   "source": [
    "### Author 1: Thiago Kalid, 2 number\n",
    "### Author 2: Name, UP number\n",
    "### Author 3: Name, UP number"
   ]
  },
  {
   "cell_type": "markdown",
   "id": "ec46389d",
   "metadata": {},
   "source": [
    "## 1. Probability"
   ]
  },
  {
   "cell_type": "markdown",
   "id": "4d4a9601-9583-4b3b-8c69-03ed63cb4e6d",
   "metadata": {},
   "source": [
    "Suppose you are participating in a quiz competition where, for each question, you are provided with four answer choices, with only one being correct. At a certain point, the quiz host asks you a question for which you have no idea what the correct answer is. The host offers you a bonus that enables you to eliminate one incorrect answer from among two options of your choice. Let us label the four answers as $a$, $b$, $c$, and $d$. "
   ]
  },
  {
   "cell_type": "markdown",
   "id": "e4fd598c-a2ef-4342-b2a8-439c348fa621",
   "metadata": {},
   "source": [
    "### 1.1. Pen-and-paper questions"
   ]
  },
  {
   "cell_type": "markdown",
   "id": "a19566f9-fcae-447e-8d96-532fe38e5fe9",
   "metadata": {},
   "source": [
    "a) What is the probability that you get the correct answer if you answer at random before using the bonus?"
   ]
  },
  {
   "cell_type": "markdown",
   "metadata": {},
   "source": [
    "There are four alternatives, which only one is the correct one. Then, supposing that I don't have any prior knowladge, the probability of choosing the right answer is \n",
    "$$\\frac{1}{4}=0.25$$"
   ],
   "id": "bc6f26ec908726ea"
  },
  {
   "cell_type": "markdown",
   "id": "ad953f96",
   "metadata": {},
   "source": [
    "b) You requested the quiz host to use the bonus and eliminate one incorrect answer from options $a$ and $b$. You then choose the option $a$ or $b$ that remains after the bonus. What is the probability of selecting the correct answer in this scenario? Show all the calculations involved."
   ]
  },
  {
   "cell_type": "markdown",
   "id": "fb331a67-8b41-4552-937a-e3088b9c9f37",
   "metadata": {},
   "source": [
    "Chosen two options, the bonus removes one incorrect. If we choose two wrong options, the bonus will not help, and we will fail. If we choose one right and one wrong, then we will certainly succeed after the bonus, since it will remove the incorrect one. Then, the problem is **as if** we could choose two options and win if one of these two were correct. There are 6 possible pair combinations: (a,b), (a,c), (a,d), (b,c), (b,d), (c,d), where each option is present in 1/2 of the combinations. Assuming that there is only one correct answer, the probability of choosing the right option in this situation is 1/2 or 50%  "
   ]
  },
  {
   "cell_type": "markdown",
   "id": "c4fa1fc8",
   "metadata": {},
   "source": [
    "### 1.2. Computational simulation"
   ]
  },
  {
   "cell_type": "markdown",
   "id": "cb819b9c-204c-4ed1-93b8-247dd0c3c0e0",
   "metadata": {},
   "source": [
    "Perform a computational simulation of the scenario described in 1.b) and estimate the desired probability by completing the code below."
   ]
  },
  {
   "cell_type": "code",
   "execution_count": 105,
   "id": "219c3029-f098-42d6-a69f-e88b3f75bf54",
   "metadata": {
    "ExecuteTime": {
     "end_time": "2023-10-13T14:59:03.156891400Z",
     "start_time": "2023-10-13T14:59:02.990995100Z"
    }
   },
   "outputs": [
    {
     "name": "stdout",
     "output_type": "stream",
     "text": [
      "Estimated probability: 0.497\n"
     ]
    }
   ],
   "source": [
    "import random\n",
    "\n",
    "NUM_EPISODES = 10000\n",
    "\n",
    "num_wins = 0\n",
    "for _ in range(NUM_EPISODES):\n",
    "    # Pick a random correct answer:\n",
    "    correct_answer = random.choice([\"a\", \"b\", \"c\", \"d\"])\n",
    "    \n",
    "    # Choose two guesses randomly:\n",
    "    options = [\"a\", \"b\", \"c\", \"d\"]\n",
    "    guess_1 = random.choice(options)\n",
    "    options.remove(guess_1)\n",
    "    guess_2 = random.choice(options)\n",
    "    \n",
    "    # The bonus will always remove one wrong alternative. It means that as long as we have chosen the correct alternative among our two initial guesses, we will succeed:\n",
    "    if guess_1 == correct_answer or guess_2 == correct_answer:\n",
    "        num_wins += 1\n",
    "\n",
    "        \n",
    "prob = num_wins / NUM_EPISODES\n",
    "print(f\"Estimated probability: {prob:.3f}\")"
   ]
  },
  {
   "cell_type": "markdown",
   "id": "77ef0a4b-4dc2-4521-96ec-f1a489dcac67",
   "metadata": {},
   "source": [
    "## 2. Linear regression"
   ]
  },
  {
   "cell_type": "markdown",
   "id": "7eba9c45-dba4-4717-8f61-9b7cce1ca4cc",
   "metadata": {},
   "source": [
    "Consider the model $f(x) = \\theta_0 + \\theta_1 x + \\theta_2 x^2 + \\theta_3 \\sin(2\\pi x)$ and a dataset $\\{(x_i, y_i)\\}_{i=1}^n$."
   ]
  },
  {
   "cell_type": "markdown",
   "source": [],
   "metadata": {
    "collapsed": false
   },
   "id": "26c2c15d486dbce9"
  },
  {
   "cell_type": "markdown",
   "id": "0acd9f3b-2099-4229-9be2-3674a7371d81",
   "metadata": {},
   "source": [
    "a) The optimal parameters for the linear regression problem can be obtained by solving\n",
    "$$ \\min_{\\boldsymbol{\\theta}} ||\\boldsymbol{y} - \\boldsymbol{X}\\boldsymbol{\\theta}||_2^2 $$\n",
    "for suitably defined matrices/vectors $\\boldsymbol{\\theta}$, $\\boldsymbol{X}$, and $\\boldsymbol{y}$. Provide explicit definitions for these matrices/vectors."
   ]
  },
  {
   "cell_type": "markdown",
   "source": [
    "$$\n",
    "\\boldsymbol{X} =\n",
    "\\begin{bmatrix}\n",
    "1 & x_1 & x_1^2 & \\sin{(2\\pi x_1)} \\\\\n",
    "1 & x_2 & x_2^2 & \\sin{(2\\pi x_2)} \\\\\n",
    "\\vdots & \\vdots & \\vdots & \\vdots \\\\\n",
    "1 & x_n & x_n^2 & \\sin{(2\\pi x_n)} \n",
    "\\end{bmatrix}\n",
    "$$\n",
    "$$\n",
    "\\boldsymbol{\\theta} =\n",
    "\\begin{bmatrix}\n",
    "\\theta_0 & \\theta_1 & \\theta_2 & \\theta_3\n",
    "\\end{bmatrix}^t\n",
    "$$\n",
    "$$\n",
    "\\boldsymbol{y} =\n",
    "\\begin{bmatrix}\n",
    "y_1 & y_2 & \\dots & y_n\n",
    "\\end{bmatrix}^t\n",
    "$$"
   ],
   "metadata": {
    "collapsed": false
   },
   "id": "f5cfebc7b99d42ab"
  },
  {
   "cell_type": "markdown",
   "id": "7412e3f8",
   "metadata": {},
   "source": [
    "b) Find the solution to this problem by completing the code below."
   ]
  },
  {
   "cell_type": "code",
   "execution_count": 106,
   "id": "015eaef3-54db-4f27-95d6-0afc9373f97c",
   "metadata": {
    "ExecuteTime": {
     "end_time": "2023-10-13T14:59:03.163887500Z",
     "start_time": "2023-10-13T14:59:03.043961700Z"
    }
   },
   "outputs": [
    {
     "name": "stdout",
     "output_type": "stream",
     "text": [
      "theta = [ 3.03277352  0.33496879  0.02098271 -0.7978831 ]\n"
     ]
    }
   ],
   "source": [
    "import numpy as np\n",
    "\n",
    "arr = np.loadtxt(\"dataset_train.csv\", delimiter=\",\", dtype=float)\n",
    "inputs, targets = arr[:, 0], arr[:, 1]\n",
    "\n",
    "# Rename the variable to be more consistent with the previously naming:\n",
    "x = inputs\n",
    "y = targets\n",
    "\n",
    "# Cast the input data into the X matrix format:\n",
    "x_matrix = np.array([np.ones_like(x), x, x**2, np.sin(2*np.pi*x)], dtype='float').transpose()\n",
    "\n",
    "# Compute the closed-form solution for the non-regularized linear regression:\n",
    "theta = np.linalg.inv(x_matrix.T @ x_matrix) @ x_matrix.T @ y\n",
    "\n",
    "\n",
    "print(\"theta =\", theta)"
   ]
  },
  {
   "cell_type": "markdown",
   "id": "105dd49c-f7bf-4c91-85df-44dbf6f17318",
   "metadata": {},
   "source": [
    "Let's plot the learned model together with the training data."
   ]
  },
  {
   "cell_type": "code",
   "execution_count": 107,
   "id": "619e4fc4-4746-4ddd-9a16-3bc3068742d5",
   "metadata": {
    "ExecuteTime": {
     "end_time": "2023-10-13T14:59:03.581592500Z",
     "start_time": "2023-10-13T14:59:03.080938300Z"
    }
   },
   "outputs": [
    {
     "data": {
      "text/plain": "<Figure size 640x480 with 1 Axes>",
      "image/png": "[encoded data removed]"
     },
     "metadata": {},
     "output_type": "display_data"
    }
   ],
   "source": [
    "import seaborn as sns\n",
    "import matplotlib.pyplot as plt\n",
    "\n",
    "# create a scatterplot for the data\n",
    "sns.scatterplot(x=inputs, y=targets, color=\"blue\", label='Data')\n",
    "\n",
    "# compute the predictions of the model\n",
    "x = np.linspace(0, 1, 1000)\n",
    "y_pred = theta[0] + theta[1] * x + theta[2] * x**2 + theta[3] * np.sin(2*np.pi * x) \n",
    "\n",
    "# create a lineplot for the predicted model\n",
    "sns.lineplot(x=x, y=y_pred, color=\"orange\", label='Prediction')\n",
    "\n",
    "# label your axes and add a legend\n",
    "plt.xlabel('x')\n",
    "plt.ylabel('y')\n",
    "plt.legend()\n",
    "\n",
    "# show the plot\n",
    "plt.show()"
   ]
  },
  {
   "cell_type": "markdown",
   "id": "1274c527-cf9e-47bc-8d88-a892a7c17f66",
   "metadata": {},
   "source": [
    "c) Consider the Ridge regression problem where the parameter $\\theta_0$ is not regularized. Derive the closed-form solution to this problem analytically."
   ]
  },
  {
   "cell_type": "markdown",
   "id": "312853af-2f9c-4a88-9c6b-39836c4d7b15",
   "metadata": {},
   "source": [
    "Suppose\n",
    "$$\n",
    "\\boldsymbol{X} =\n",
    "\\begin{bmatrix}\n",
    "1 & x_1^{(1)} & x_1^{(2)} & x_1^{(D)} \\\\\n",
    "1 & x_2^{(1)} & x_2^{(2)} & x_2^{(D)} \\\\\n",
    "\\vdots & \\vdots & \\vdots & \\vdots & \\vdots \\\\\n",
    "1 & x_n^{(1)} & x_n^{(2)} & x_n^{(D)} \n",
    "\\end{bmatrix}\n",
    "$$\n",
    "$$\n",
    "\\boldsymbol{\\theta} =\n",
    "\\begin{bmatrix}\n",
    "\\theta_0 & \\theta_1 & \\dots & \\theta_D\n",
    "\\end{bmatrix}^t\n",
    "$$\n",
    "$$\n",
    "\\boldsymbol{y} =\n",
    "\\begin{bmatrix}\n",
    "y_1 & y_2 & \\dots & y_n\n",
    "\\end{bmatrix}^t\n",
    "$$\n",
    "The ridge regression is loss function is defined as\n",
    "\n",
    "$$\n",
    "L(\\boldsymbol{\\theta})=(\\boldsymbol{y}-\\boldsymbol{X}\\boldsymbol{\\theta})^t(\\boldsymbol{y}-\\boldsymbol{X}\\boldsymbol{\\theta}) + \\boldsymbol{\\theta}^t\\boldsymbol{\\theta}\n",
    "$$\n",
    "\n",
    "The goal of not considering $\\theta_0$ in the regularization is achieved by not considering it in $\\boldsymbol{\\theta}^t\\boldsymbol{I}\\boldsymbol{\\theta}$. This can be achieved by a replacement in the normal equation\n",
    "\n",
    "$$\n",
    "L(\\boldsymbol{\\theta})=(\\boldsymbol{y}-\\boldsymbol{X}\\boldsymbol{\\theta})^t(\\boldsymbol{y}-\\boldsymbol{X}\\boldsymbol{\\theta}) + \\boldsymbol{\\theta}^t \\boldsymbol{E} \\boldsymbol{\\theta}\n",
    "$$\n",
    "\n",
    "Where\n",
    "\n",
    "$$\n",
    "\\boldsymbol{E} =\n",
    "\\begin{bmatrix}\n",
    "0 & 0 & 0 & \\dots & 0 \\\\\n",
    "0 & 1 & 0 & \\dots & 0 \\\\\n",
    "0 & 0 & 1 & \\dots & 0 \\\\\n",
    "\\vdots & \\vdots & \\vdots &  & \\vdots \\\\\n",
    "0 & 0 & 0 & \\dots & 1 \\\\\n",
    "\\end{bmatrix}\n",
    "$$\n",
    "\n",
    "Since the only change was replacing the identity matrix $\\boldsymbol{I}$ by $\\boldsymbol{E}$, the final solution will be very similar\n",
    "\n",
    "$$\n",
    "\\hat{\\boldsymbol{\\theta}}=(\\boldsymbol{X}^t\\boldsymbol{X}+\\lambda\\boldsymbol{E})^{-1}\\boldsymbol{X}^t\\boldsymbol{y}\n",
    "$$"
   ]
  },
  {
   "cell_type": "markdown",
   "id": "ecc898ed-af87-4a3d-b32b-cffd1d252e20",
   "metadata": {},
   "source": [
    "d) Find the solution to the Ridge regression problem as defined in the previous exercise by completing the code below. The variable `reg` in the code corresponds to the regularization weight $\\lambda$."
   ]
  },
  {
   "cell_type": "code",
   "execution_count": 108,
   "id": "e3a87dbd-2b17-4c6c-9bca-af0a2f2403ae",
   "metadata": {
    "ExecuteTime": {
     "end_time": "2023-10-13T14:59:03.674536600Z",
     "start_time": "2023-10-13T14:59:03.586590800Z"
    }
   },
   "outputs": [
    {
     "name": "stdout",
     "output_type": "stream",
     "text": [
      "theta_ridge = [ 3.05637954  0.18963518  0.18227539 -0.66656038]\n"
     ]
    }
   ],
   "source": [
    "reg = 10.0  # regularization weight (DO NOT CHANGE)\n",
    "arr = np.loadtxt(\"dataset_train.csv\", delimiter=\",\", dtype=float)\n",
    "inputs, targets = arr[:, 0], arr[:, 1]\n",
    "\n",
    "# Rename the variable to be more consistent with the previously naming:\n",
    "x = inputs\n",
    "y = targets\n",
    "\n",
    "# Cast the input data into the X matrix format:\n",
    "x_matrix = np.array([np.ones_like(x), x, x**2, np.sin(2*np.pi*x)], dtype='float').transpose()\n",
    "\n",
    "# Create the matrix E:\n",
    "num_atributes = x_matrix.shape[1]\n",
    "e_matrix = np.eye(num_atributes)\n",
    "# Remove the entry associated with theta_0:\n",
    "e_matrix[0, 0] = 0\n",
    "\n",
    "# Compute the closed-form solution for the non-regularized linear regression:\n",
    "theta_ridge = np.linalg.inv(x_matrix.T @ x_matrix + e_matrix * reg) @ x_matrix.T @ y\n",
    "\n",
    "print(\"theta_ridge =\", theta_ridge)"
   ]
  },
  {
   "cell_type": "markdown",
   "id": "44569427-1f0c-4f9f-b5a7-68cb87185295",
   "metadata": {},
   "source": [
    "Let's plot the two models together with the training data."
   ]
  },
  {
   "cell_type": "code",
   "execution_count": 109,
   "id": "af453865-ec48-45a9-8a7f-3f6d09b588e6",
   "metadata": {
    "ExecuteTime": {
     "end_time": "2023-10-13T14:59:04.069643900Z",
     "start_time": "2023-10-13T14:59:03.607577700Z"
    }
   },
   "outputs": [
    {
     "data": {
      "text/plain": "<Figure size 640x480 with 1 Axes>",
      "image/png": "[encoded data removed]"
     },
     "metadata": {},
     "output_type": "display_data"
    }
   ],
   "source": [
    "# create a scatterplot for the data\n",
    "sns.scatterplot(x=inputs, y=targets, color=\"blue\", label='Data')\n",
    "\n",
    "# compute the predictions of the two models\n",
    "x = np.linspace(0, 1, 1000)\n",
    "y_pred = theta[0] + theta[1] * x + theta[2] * x**2 + theta[3] * np.sin(2*np.pi * x) \n",
    "y_pred_ridge = theta_ridge[0] + theta_ridge[1] * x + theta_ridge[2] * x**2 + theta_ridge[3] * np.sin(2*np.pi * x) \n",
    "\n",
    "# create a lineplot for each of the predicted models\n",
    "sns.lineplot(x=x, y=y_pred, color=\"orange\", label='Prediction (no reg.)')\n",
    "sns.lineplot(x=x, y=y_pred_ridge, color=\"green\", label='Prediction (Ridge)')\n",
    "\n",
    "# label your axes and add a legend\n",
    "plt.xlabel('x')\n",
    "plt.ylabel('y')\n",
    "plt.legend()\n",
    "\n",
    "# show the plot\n",
    "plt.show()"
   ]
  },
  {
   "cell_type": "markdown",
   "id": "b1f23ada-a1a7-4d11-be0a-2b9c8f75c000",
   "metadata": {},
   "source": [
    "e) Compute the mean-squared errors (MSE) of the two models in the training set and in a separate test set. You should avoid utilizing for-loops. Use NumPy vectorized operations instead."
   ]
  },
  {
   "cell_type": "code",
   "execution_count": 110,
   "id": "17f9cb41-5df2-4ed5-806c-358f28c763d0",
   "metadata": {
    "ExecuteTime": {
     "end_time": "2023-10-13T14:59:04.151174100Z",
     "start_time": "2023-10-13T14:59:04.078638100Z"
    }
   },
   "outputs": [
    {
     "name": "stdout",
     "output_type": "stream",
     "text": [
      "MSE in the training data:\n",
      "  Linear regression (no reg.): 0.04178\n",
      "  Ridge regression (lambda = 10.0): 0.05035\n",
      "\n",
      "MSE in the test data:\n",
      "  Linear regression (no reg.): 0.02806\n",
      "  Ridge regression (lambda = 10.0): 0.03817\n"
     ]
    }
   ],
   "source": [
    "# load the training data\n",
    "arr = np.loadtxt(\"dataset_train.csv\", delimiter=\",\", dtype=float)\n",
    "inputs, targets = arr[:, 0], arr[:, 1]\n",
    "\n",
    "# load the test data\n",
    "arr = np.loadtxt(\"dataset_test.csv\", delimiter=\",\", dtype=float)\n",
    "inputs_test, targets_test = arr[:, 0], arr[:, 1]\n",
    "\n",
    "# Create anonymous functions to compute the predictions:\n",
    "y_pred = lambda v: theta[0] + theta[1] * v + theta[2] * v**2 + theta[3] * np.sin(2*np.pi * v)\n",
    "y_pred_ridge = lambda v: theta_ridge[0] + theta_ridge[1] * v + theta_ridge[2] * v**2 + theta_ridge[3] * np.sin(2*np.pi * v)\n",
    "\n",
    "# Create an anonymous function to compute the Mean of the Square Errors:\n",
    "mse = lambda a, b: (np.linalg.norm(a-b)**2)/len(a)\n",
    "\n",
    "# Compute the MSE for each dataset and model:\n",
    "mse_train = mse(targets, y_pred(inputs))\n",
    "mse_train_ridge = mse(targets, y_pred_ridge(inputs))\n",
    "mse_test = mse(targets_test, y_pred(inputs_test))\n",
    "mse_test_ridge = mse(targets_test, y_pred_ridge(inputs_test))\n",
    "\n",
    "#from sklearn.linear_model import Ridge\n",
    "#import numpy as np\n",
    "#y = targets\n",
    "#x = inputs\n",
    "#X = np.array([x, x**2, np.sin(2*np.pi*x)], dtype='float').transpose()\n",
    "#clf = Ridge(alpha=10.0)\n",
    "#clf.fit(X, y)\n",
    "#print(theta_ridge)\n",
    "#print(clf.coef_)\n",
    "#print(clf.intercept_)\n",
    "\n",
    "print(\"MSE in the training data:\")\n",
    "print(f\"  Linear regression (no reg.): {mse_train:.5f}\")\n",
    "print(f\"  Ridge regression (lambda = {reg}): {mse_train_ridge:.5f}\\n\")\n",
    "\n",
    "print(\"MSE in the test data:\")\n",
    "print(f\"  Linear regression (no reg.): {mse_test:.5f}\")\n",
    "print(f\"  Ridge regression (lambda = {reg}): {mse_test_ridge:.5f}\\n\")"
   ]
  },
  {
   "cell_type": "markdown",
   "id": "e8c0e174-2d5b-4362-85c3-c9f73771fa5c",
   "metadata": {},
   "source": [
    "f) Based on the errors obtained in the previous question, which of the two models would you prefer? Explain your answer."
   ]
  },
  {
   "cell_type": "markdown",
   "id": "b74174be-d6fe-46c4-80dc-0a97ec7ef87e",
   "metadata": {},
   "source": [
    "**YOUR ANSWER HERE**"
   ]
  }
 ],
 "metadata": {
  "kernelspec": {
   "display_name": "Python 3 (ipykernel)",
   "language": "python",
   "name": "python3"
  },
  "language_info": {
   "codemirror_mode": {
    "name": "ipython",
    "version": 3
   },
   "file_extension": ".py",
   "mimetype": "text/x-python",
   "name": "python",
   "nbconvert_exporter": "python",
   "pygments_lexer": "ipython3",
   "version": "3.11.5"
  }
 },
 "nbformat": 4,
 "nbformat_minor": 5
}
