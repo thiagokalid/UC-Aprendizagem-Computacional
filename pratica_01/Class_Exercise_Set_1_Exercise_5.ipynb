{
 "nbformat": 4,
 "nbformat_minor": 0,
 "metadata": {
  "colab": {
   "provenance": []
  },
  "kernelspec": {
   "name": "python3",
   "language": "python",
   "display_name": "Python 3 (ipykernel)"
  },
  "language_info": {
   "name": "python"
  }
 },
 "cells": [
  {
   "cell_type": "markdown",
   "source": [
    "5. Load the height/weight data using data = np.genfromtxt(’heightWeightData.txt’, delimiter=’,’). The first\n",
    "column is the class label (1=male, 2=female), the second column is height, the third weight"
   ],
   "metadata": {
    "id": "GbWiazElL65E"
   }
  },
  {
   "cell_type": "code",
   "execution_count": 20,
   "metadata": {
    "colab": {
     "base_uri": "https://localhost:8080/",
     "height": 401
    },
    "id": "0wi5umyZLftZ",
    "outputId": "bf59245f-4ab4-407f-c788-a6671b5f2e14",
    "ExecuteTime": {
     "end_time": "2023-09-25T10:20:20.237309300Z",
     "start_time": "2023-09-25T10:20:20.153052300Z"
    }
   },
   "outputs": [],
   "source": [
    "# Importing necessary packages:\n",
    "import numpy as np\n",
    "import scipy\n",
    "\n",
    "# Import the data for the assigment:\n",
    "data = np.loadtxt(\"heightWeightData.csv\", delimiter=\",\", dtype=float)\n",
    "\n",
    "# Split the data between each atribute:\n",
    "G = data[:, 0]\n",
    "H = data[:, 1]\n",
    "W = data[:, 2]\n",
    "\n",
    "# Finds which samples are male:\n",
    "is_male = G == 1"
   ]
  },
  {
   "cell_type": "code",
   "source": [
    "# Compute the samples average:\n",
    "mu_G = np.mean(G)\n",
    "mu_H = np.mean(H)\n",
    "mu_W = np.mean(W)"
   ],
   "metadata": {
    "id": "KJ-vChjwMgXM",
    "ExecuteTime": {
     "end_time": "2023-09-25T10:20:20.241309500Z",
     "start_time": "2023-09-25T10:20:20.173329300Z"
    }
   },
   "execution_count": 21,
   "outputs": []
  },
  {
   "cell_type": "markdown",
   "source": [
    "a) Write a Python script to fit a Gaussian model to each class using all the data for training. What’s the training error?\n",
    "\n",
    "Answer: The problem asks to divide the groups considering class, therefore $P(x|G)$ is possible to directly compute. The solution will be achieved estimating the gender based on the bayes theorem:\n",
    "$P(G|x)=\\frac{P(x|G)P(G)}{P(x)}$\n",
    "for a given $x=(height,width)$.\n",
    "For both genders the values of $P(G)$ and $P(x)$ are the same (same population and same evaluated point $x$), therefore it is possible to estimate the gender through the inequality:\n",
    "$P(male|x)>P(female|x) \\to P(x|male)>P(x|female)$"
   ],
   "metadata": {
    "id": "vGvjpIACNCd4"
   }
  },
  {
   "cell_type": "code",
   "execution_count": 22,
   "outputs": [
    {
     "name": "stdout",
     "output_type": "stream",
     "text": [
      "MSE2 = 5.0\n",
      "Error in percentage = 11.90 %\n"
     ]
    }
   ],
   "source": [
    "# Divide the original data between male and female subspace:\n",
    "male_H = H[is_male]\n",
    "male_W = W[is_male]\n",
    "female_H = H[is_male != 1]\n",
    "female_W = W[is_male != 1]\n",
    "\n",
    "# Compute its mean:\n",
    "mean_male_H = np.mean(male_H)\n",
    "mean_male_W = np.mean(male_W)\n",
    "mean_female_H = np.mean(female_H)\n",
    "mean_female_W = np.mean(female_W)\n",
    "\n",
    "# Compute distribution for both classes:\n",
    "male_HW = np.stack((male_H, male_W), axis=0)\n",
    "cov_male_HW = np.cov(male_HW)\n",
    "# Compute p(x|g=male):\n",
    "pdf_male_HW = lambda x : scipy.stats.multivariate_normal(\n",
    "    mean=[mean_male_H, mean_male_W],\n",
    "    cov=cov_male_HW).pdf(x)\n",
    "\n",
    "female_HW = np.stack((female_H, female_W), axis=0)\n",
    "cov_female_HW = np.cov(female_HW)\n",
    "# Compute P(x|g=female)\n",
    "pdf_female_HW = lambda x : scipy.stats.multivariate_normal(\n",
    "    mean=[mean_female_H, mean_female_W],\n",
    "    cov=cov_female_HW).pdf(x)\n",
    "\n",
    "\n",
    "# Now, for all samples compute the estimated gender. If the prob(g=2) > prob(g=1), then it is a female. Male, otherwise.\n",
    "estimated_g1 = np.array([1 if pdf_male_HW([h, w]) > pdf_female_HW([h, w]) else 2 for h, w in zip(H, W)])\n",
    "\n",
    "# Compute the MSE:\n",
    "mse_1 = np.linalg.norm(estimated_g1 - G)\n",
    "print(f\"MSE2 = {mse_1}\")\n",
    "# print(f\"Error={estimated_g - G}\")\n",
    "print(f\"Error in percentage = {np.sum(np.abs(estimated_g1 - G))/len(G)*100:.2f} %\")"
   ],
   "metadata": {
    "collapsed": false,
    "ExecuteTime": {
     "end_time": "2023-09-25T10:20:20.411631100Z",
     "start_time": "2023-09-25T10:20:20.201320400Z"
    }
   }
  },
  {
   "cell_type": "markdown",
   "source": [],
   "metadata": {
    "collapsed": false
   }
  },
  {
   "cell_type": "markdown",
   "source": [
    "b) Repeat a) imposing the same covariance matrix for both classes.\n",
    "\n",
    "Answer: If no classes are considerate, there will be only one global covariance matrix for both distributions. The means remain the same as last answer."
   ],
   "metadata": {
    "collapsed": false
   }
  },
  {
   "cell_type": "code",
   "execution_count": 23,
   "outputs": [
    {
     "name": "stdout",
     "output_type": "stream",
     "text": [
      "MSE2 = 5.0990195135927845\n",
      "Error in percentage = 12.38 %\n"
     ]
    }
   ],
   "source": [
    "# Compute one single covariance matrix, ignoring the classes:\n",
    "HW = np.stack((H, W), axis=0)\n",
    "cov_hw = np.cov(HW)\n",
    "male_pdf_HW = lambda x : scipy.stats.multivariate_normal(\n",
    "    mean=[mean_male_H, mean_male_W],\n",
    "    cov=cov_hw).pdf(x)\n",
    "female_pdf_HW = lambda x : scipy.stats.multivariate_normal(\n",
    "    mean=[mean_female_H, mean_female_W],\n",
    "    cov=cov_hw).pdf(x)\n",
    "\n",
    "# Now, for all samples compute the estimated gender. If the prob(g=2) > prob(g=1), then it is a female. Male, otherwise.\n",
    "estimated_g2 = np.array([1 if male_pdf_HW([h, w]) > female_pdf_HW([h, w]) else 2 for h, w in zip(H, W)])\n",
    "\n",
    "# Compute the MSE:\n",
    "mse_2 = np.linalg.norm(estimated_g2 - G)\n",
    "print(f\"MSE2 = {mse_2}\")\n",
    "# print(f\"Error={estimated_g - G}\")\n",
    "print(f\"Error in percentage = {np.sum(np.abs(estimated_g2 - G))/len(G)*100:.2f} %\")"
   ],
   "metadata": {
    "collapsed": false,
    "ExecuteTime": {
     "end_time": "2023-09-25T10:20:20.599577300Z",
     "start_time": "2023-09-25T10:20:20.411631100Z"
    }
   }
  },
  {
   "cell_type": "markdown",
   "source": [
    "c. Repeat a) imposing the diagonal covariance matrices.\n",
    "\n",
    "Answer: Imposing a diagonal covariance matrix translate as considering total independence between variables. Therefore, covariance=0"
   ],
   "metadata": {
    "collapsed": false
   }
  },
  {
   "cell_type": "code",
   "execution_count": 24,
   "outputs": [
    {
     "name": "stdout",
     "output_type": "stream",
     "text": [
      "MSE3 = 5.0990195135927845\n",
      "Error in percentage = 12.38 %\n"
     ]
    }
   ],
   "source": [
    "# Compute distributions for both classes, considering that height (H) and weight (H) are completely independent variables, thus covariance=0 and var!=0:\n",
    "male_HW = np.stack((male_H, male_W), axis=0)\n",
    "cov_male_HW = np.zeros(shape=(2, 2))\n",
    "cov_male_HW[0, 0] = np.var(male_H)\n",
    "cov_male_HW[1, 1] = np.var(male_W)\n",
    "\n",
    "pdf_male_HW = scipy.stats.multivariate_normal(\n",
    "    mean=[mean_male_H, mean_male_W],\n",
    "    cov=cov_male_HW) # P(x|g=male)\n",
    "\n",
    "# For the female:\n",
    "cov_female_HW = np.zeros(shape=(2, 2))\n",
    "cov_female_HW[0, 0] = np.var(female_H)\n",
    "cov_female_HW[1, 1] = np.var(female_W)\n",
    "pdf_female_HW = scipy.stats.multivariate_normal(\n",
    "    mean=[mean_female_H, mean_female_W],\n",
    "    cov=cov_female_HW) # P(H,W|g=female)\n",
    "\n",
    "# Now, for all samples compute the estimated gender. If the prob(g=2) > prob(g=1), then it is a female. Male, otherwise.\n",
    "estimated_g3 = np.array([1 if pdf_male_HW.pdf([h, w]) > pdf_female_HW.pdf([h, w]) else 2 for h, w in zip(H, W)])\n",
    "\n",
    "# Compute the MSE:\n",
    "mse_3 = np.linalg.norm(estimated_g3 - G)\n",
    "print(f\"MSE3 = {mse_3}\")\n",
    "# print(f\"Error={estimated_g - G}\")\n",
    "print(f\"Error in percentage = {np.sum(np.abs(estimated_g3 - G))/len(G)*100:.2f} %\")"
   ],
   "metadata": {
    "collapsed": false,
    "ExecuteTime": {
     "end_time": "2023-09-25T10:20:20.674880800Z",
     "start_time": "2023-09-25T10:20:20.603574700Z"
    }
   }
  }
 ]
}
