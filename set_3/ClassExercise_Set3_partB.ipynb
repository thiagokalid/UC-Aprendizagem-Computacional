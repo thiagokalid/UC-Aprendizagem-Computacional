{
 "cells": [
  {
   "cell_type": "code",
   "execution_count": 95,
   "id": "initial_id",
   "metadata": {
    "collapsed": true,
    "ExecuteTime": {
     "end_time": "2023-11-06T09:32:10.260377Z",
     "start_time": "2023-11-06T09:32:10.188304600Z"
    }
   },
   "outputs": [],
   "source": [
    "import numpy as np\n",
    "import scipy\n",
    "\n",
    "X1 = np.array([-2.4, -2.1, -1.7, -1.6, -1.5, -1.2, -1.1, -0.5, 0.0, 0.0,\n",
    "               0.1, 0.1, 0.1, 0.2, 0.3, 0.4, .8, 1.0, 1.7, 2.0], dtype='float')\n",
    "X2 = np.array([0.4, -0.3, -1.6, -1.3, 1.5, 1.9, -2.0, 0.1, 0.4, 2.0, -0.7,\n",
    "               -0.6, 0.0, -0.5, -0.5, 0.9, 0.2, 0.1, -1.0, 0.4], dtype='float')\n",
    "C = np.array([0, 0, 0, 0, 0, 0, 0, 1, 1, 0, 1, 1, 1, 1, 1, 1, 1, 1, 0, 0], dtype='int')\n",
    " \n"
   ]
  },
  {
   "cell_type": "markdown",
   "source": [
    "$$P(A_1, A_2 | C_k)= P(A_1|C_k)P(A_2|C_k)$$"
   ],
   "metadata": {
    "collapsed": false
   },
   "id": "51270429f8c7befc"
  },
  {
   "cell_type": "code",
   "execution_count": 96,
   "outputs": [
    {
     "name": "stdout",
     "output_type": "stream",
     "text": [
      "\n",
      " Prior: \n",
      "P(C=1) =  0.5\n",
      "P(C=0) =  0.5\n",
      "\n",
      " Marginal prob.: \n",
      "P(A1|C=1) =  0.0\n",
      "P(A2|C=1) =  0.0\n",
      "P(A1|C=0) =  0.05\n",
      "P(A2|C=0) =  0.2\n"
     ]
    }
   ],
   "source": [
    "# Converting the feature space to binary:\n",
    "A1 = 1.0*(np.absolute(X1) > 1)\n",
    "A2 = 1.0*(np.absolute(X2) > 1)\n",
    "\n",
    "# Computing the prior:\n",
    "prior_C0 = np.count_nonzero(C==0)/len(C)\n",
    "prior_C1 = np.count_nonzero(C==1)/len(C)\n",
    "\n",
    "print(\"\\n Prior: \")\n",
    "print(\"P(C=1) = \", prior_C1)\n",
    "print(\"P(C=0) = \", prior_C0)\n",
    "\n",
    "# Assuming a Naive Bayes Classifier (features are independents):\n",
    "C0 = C==0\n",
    "C1 = C==1\n",
    "\n",
    "#\n",
    "p_A1_given_C0 = np.count_nonzero(A1[C0] == 0)/len(C0)\n",
    "p_A2_given_C0 = np.count_nonzero(A2[C0] == 0)/len(C0)\n",
    "\n",
    "#\n",
    "p_A1_given_C1 = np.count_nonzero(A1[C1] == 1)/len(C1)\n",
    "p_A2_given_C1 = np.count_nonzero(A2[C1] == 1)/len(C1)\n",
    "\n",
    "\n",
    "\n",
    "print(\"\\n Marginal prob.: \")\n",
    "print(\"P(A1|C=1) = \", p_A1_given_C1)\n",
    "print(\"P(A2|C=1) = \", p_A2_given_C1)\n",
    "print(\"P(A1|C=0) = \", p_A1_given_C0)\n",
    "print(\"P(A2|C=0) = \", p_A2_given_C0)"
   ],
   "metadata": {
    "collapsed": false,
    "ExecuteTime": {
     "end_time": "2023-11-06T09:32:10.280371100Z",
     "start_time": "2023-11-06T09:32:10.208392500Z"
    }
   },
   "id": "21295211ca235c78"
  },
  {
   "cell_type": "code",
   "execution_count": 97,
   "outputs": [
    {
     "name": "stdout",
     "output_type": "stream",
     "text": [
      "0.4318181818181818\n",
      "0.5681818181818182\n"
     ]
    }
   ],
   "source": [
    "\n",
    "test_point = np.array([.9, .9], dtype='float')\n",
    "A_test = 1.0 * (np.abs(test_point) > 1)\n",
    "\n",
    "\n",
    "# P(C0|x) = P(x|C)P(C)/P(x) if independence of the attributes is considered:\n",
    "# P(C0|x) = P(x1|C)*P(x2|C)*...*P(xD|C)P(C)/P(x)\n",
    "\n",
    "# P(A1|C0) * P(C0) * P(A2|C1) * P(C0) which is proportional to P(C0|A1, A2)\n",
    "P_C0_A1A2 = p_A1_given_C0 ** A_test[0] * (1 - p_A1_given_C0)**(1 - A_test[0]) * \\\n",
    "            p_A2_given_C0 ** A_test[1] * (1 - p_A2_given_C0)**(1 - A_test[1]) * \\\n",
    "            prior_C0\n",
    "\n",
    "P_C1_A1A2 = p_A1_given_C1 ** A_test[0] * (1 - p_A1_given_C1)**(1 - A_test[0]) * \\\n",
    "            p_A2_given_C1 ** A_test[1] * (1 - p_A2_given_C1)**(1 - A_test[1]) * \\\n",
    "            prior_C1\n",
    "\n",
    "\n",
    "evidence = P_C0_A1A2 + P_C1_A1A2\n",
    "\n",
    "print(P_C0_A1A2/evidence)\n",
    "print(P_C1_A1A2/evidence)\n"
   ],
   "metadata": {
    "collapsed": false,
    "ExecuteTime": {
     "end_time": "2023-11-06T09:32:10.398186900Z",
     "start_time": "2023-11-06T09:32:10.228388200Z"
    }
   },
   "id": "479808c8c54b1982"
  },
  {
   "cell_type": "code",
   "execution_count": 111,
   "outputs": [
    {
     "name": "stdout",
     "output_type": "stream",
     "text": [
      "[0. 0. 2.]\n",
      "-------------------=\n",
      "[1. 0. 4.]\n"
     ]
    }
   ],
   "source": [
    "data = np.array([4, 5, 5, 6, 12, 14, 15, 15, 16, 17], dtype='float')\n",
    "test_x = np.array([3, 10, 15], dtype='float')\n",
    "\n",
    "h = 1.0\n",
    "p = np.zeros_like(test_x)\n",
    "for i, x in enumerate(test_x):\n",
    "    lower_bound = x - h/2\n",
    "    upper_bound = x + h/2\n",
    "    \n",
    "    points_belonging = (data > lower_bound) & (data < upper_bound)\n",
    "    p[i] = np.count_nonzero(points_belonging)\n",
    "    \n",
    "print(p)\n",
    "print(\"-------------------=\")\n",
    "\n",
    "h = 3.0\n",
    "p = np.zeros_like(test_x)\n",
    "for i, x in enumerate(test_x):\n",
    "    lower_bound = x - h/2\n",
    "    upper_bound = x + h/2\n",
    "    \n",
    "    points_belonging = (data > lower_bound) & (data < upper_bound)\n",
    "    p[i] = np.count_nonzero(points_belonging)\n",
    "    \n",
    "print(p)\n",
    "    "
   ],
   "metadata": {
    "collapsed": false,
    "ExecuteTime": {
     "end_time": "2023-11-06T09:42:54.298779100Z",
     "start_time": "2023-11-06T09:42:54.274784500Z"
    }
   },
   "id": "e824f602e621efc3"
  }
 ],
 "metadata": {
  "kernelspec": {
   "display_name": "Python 3",
   "language": "python",
   "name": "python3"
  },
  "language_info": {
   "codemirror_mode": {
    "name": "ipython",
    "version": 2
   },
   "file_extension": ".py",
   "mimetype": "text/x-python",
   "name": "python",
   "nbconvert_exporter": "python",
   "pygments_lexer": "ipython2",
   "version": "2.7.6"
  }
 },
 "nbformat": 4,
 "nbformat_minor": 5
}
